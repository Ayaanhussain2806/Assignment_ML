{
 "cells": [
  {
   "cell_type": "code",
   "execution_count": 53,
   "id": "809cadf5",
   "metadata": {},
   "outputs": [],
   "source": [
    "\n",
    "import numpy as np\n",
    "import pandas as pd\n",
    "import time\n"
   ]
  },
  {
   "cell_type": "code",
   "execution_count": null,
   "id": "6d5b5748",
   "metadata": {},
   "outputs": [
    {
     "name": "stdout",
     "output_type": "stream",
     "text": [
      "[ 1  2  3  4  5  6  7  8  9 10]\n",
      "[[1 2 3]\n",
      " [4 5 6]\n",
      " [7 8 9]]\n",
      "[[[0.2339243  0.32428959 0.55008158]\n",
      "  [0.72872167 0.1037564  0.15530583]\n",
      "  [0.97364679 0.76091373 0.08923415]\n",
      "  [0.51440898 0.34993037 0.07613192]\n",
      "  [0.1315418  0.66348985 0.13573623]]\n",
      "\n",
      " [[0.64716406 0.06394581 0.03522776]\n",
      "  [0.25409872 0.49039047 0.93209621]\n",
      "  [0.62677739 0.9983219  0.58410801]\n",
      "  [0.17163192 0.50012821 0.4426967 ]\n",
      "  [0.59734038 0.47029672 0.61214   ]]\n",
      "\n",
      " [[0.19159065 0.48423208 0.7671066 ]\n",
      "  [0.55065845 0.1024046  0.53236292]\n",
      "  [0.13263831 0.84420891 0.87173376]\n",
      "  [0.68025192 0.95336243 0.21974252]\n",
      "  [0.19571441 0.58073382 0.95737387]]]\n",
      "(10,) 10 int32\n",
      "(3, 3) 9 int32\n",
      "(3, 5, 3) 45 float64\n"
     ]
    }
   ],
   "source": [
    "#Task 1 --> Creating Arrays\n",
    "#1D Array\n",
    "arr = np.arange(1,11)\n",
    "print(arr)\n",
    "\n",
    "#2D Array\n",
    "arr2 = np.arange(1,10).reshape(3,3)\n",
    "print(arr2)\n",
    "\n",
    "#3D Array\n",
    "arr3 = np.random.rand(3,5,3)\n",
    "print(arr3)\n",
    "\n",
    "#-----------------------------------------------------------------\n",
    "\n",
    "print(arr.shape,arr.size,arr.dtype)\n",
    "print(arr2.shape,arr2.size,arr2.dtype)\n",
    "print(arr3.shape,arr3.size,arr3.dtype)"
   ]
  },
  {
   "cell_type": "code",
   "execution_count": 14,
   "id": "a6965097",
   "metadata": {},
   "outputs": [
    {
     "name": "stdout",
     "output_type": "stream",
     "text": [
      "[10 20 30 40 50 60 70 80 90]\n",
      "First 3 elements : [10 20 30]\n",
      "Every alternate element : [10 30 50 70 90]\n",
      "Reverse array : [90 80 70 60 50 40 30 20 10]\n"
     ]
    }
   ],
   "source": [
    "#Task 2 --> Array Indexing and Slicing\n",
    "data = np.array([10,20,30,40,50,60,70,80,90])\n",
    "print(data)\n",
    "\n",
    "#-----------------------------------------------------------\n",
    "\n",
    "print(\"First 3 elements :\",data[0:3])\n",
    "print(\"Every alternate element :\",data[0::2])\n",
    "print(\"Reverse array :\",data[::-1])\n",
    "\n",
    "\n",
    "\n",
    "\n"
   ]
  },
  {
   "cell_type": "code",
   "execution_count": 29,
   "id": "9b4402e3",
   "metadata": {},
   "outputs": [
    {
     "name": "stdout",
     "output_type": "stream",
     "text": [
      "[ 5 19  3  8  4]\n",
      "[ 4 15  2  9  6]\n",
      "ADD : [ 9 34  5 17 10]\n",
      "SUB : [ 1  4  1 -1 -2]\n",
      "MUL : [ 20 285   6  72  24]\n",
      "DIV : [1.25       1.26666667 1.5        0.88888889 0.66666667]\n",
      "407\n",
      "7.8\n",
      "5.0\n",
      "5.844655678480982\n",
      "34.15999999999999\n",
      "MAX = 15 INDEX = 1\n",
      "MIN = 2 INDEX = 1\n"
     ]
    }
   ],
   "source": [
    "#Task 3 --> Mathematical Operations\n",
    "\n",
    "A=np.random.randint(1,20,5)\n",
    "print(A)\n",
    "\n",
    "B = np.random.randint(1,20,5)\n",
    "print(B)\n",
    "\n",
    "#--------------------------------------------------------------\n",
    "\n",
    "print(\"ADD :\",A+B)\n",
    "print(\"SUB :\",A-B)\n",
    "print(\"MUL :\",A*B)\n",
    "print(\"DIV :\",A/B)\n",
    "\n",
    "print(np.dot(A,B))\n",
    "\n",
    "print(np.mean(A))\n",
    "print(np.median(A))\n",
    "print(np.std(A))\n",
    "print(np.var(A))\n",
    "\n",
    "print(\"MAX =\",np.max(B),\"INDEX =\",np.argmax(B))\n",
    "print(\"MIN =\",np.min(B),\"INDEX =\",np.argmax(B))"
   ]
  },
  {
   "cell_type": "code",
   "execution_count": 36,
   "id": "f6e10fdb",
   "metadata": {},
   "outputs": [
    {
     "name": "stdout",
     "output_type": "stream",
     "text": [
      "[ 1  2  3  4  5  6  7  8  9 10 11 12]\n",
      "[[ 1  2  3]\n",
      " [ 4  5  6]\n",
      " [ 7  8  9]\n",
      " [10 11 12]]\n",
      "[[[ 1  2  3]\n",
      "  [ 4  5  6]]\n",
      "\n",
      " [[ 7  8  9]\n",
      "  [10 11 12]]]\n",
      "[[ 1  4  7 10]\n",
      " [ 2  5  8 11]\n",
      " [ 3  6  9 12]] (3, 4)\n"
     ]
    }
   ],
   "source": [
    "#Task 4 --> Reshaping and Transposing\n",
    "arr= np.arange(1,13)\n",
    "print(arr)\n",
    "\n",
    "#--------------------------------------------------------\n",
    "\n",
    "arr2 = arr.reshape(4,3)\n",
    "print(arr2)\n",
    "\n",
    "arr3 = arr.reshape(2,2,3)\n",
    "print(arr3)\n",
    "\n",
    "transpose = arr2.T\n",
    "print(transpose,transpose.shape)"
   ]
  },
  {
   "cell_type": "code",
   "execution_count": 43,
   "id": "3799c484",
   "metadata": {},
   "outputs": [
    {
     "name": "stdout",
     "output_type": "stream",
     "text": [
      "[18 28 16 33 24 26 45 17 27 45 35 44 24 38 28]\n",
      "Elements > 25: [28 33 26 45 27 45 35 44 38 28]\n",
      "After replacing <30 with 0: [ 0  0  0 33  0  0 45  0  0 45 35 44  0 38  0]\n",
      "Count of elements divisible by 5: 12\n"
     ]
    }
   ],
   "source": [
    "#Task 5 --> Boolean Masking and Filtering\n",
    "arr=np.random.randint(10,50,15)\n",
    "print(arr)\n",
    "\n",
    "#-----------------------------------------------------------\n",
    "\n",
    "greater_than_25 = arr[arr > 25]\n",
    "print(\"Elements > 25:\", greater_than_25)\n",
    "\n",
    "arr[arr < 30] = 0\n",
    "print(\"After replacing <30 with 0:\", arr)\n",
    "\n",
    "div_by_5 = np.sum(arr % 5 == 0)\n",
    "print(\"Count of elements divisible by 5:\", div_by_5)"
   ]
  },
  {
   "cell_type": "code",
   "execution_count": null,
   "id": "4ee9fd12",
   "metadata": {},
   "outputs": [
    {
     "name": "stdout",
     "output_type": "stream",
     "text": [
      "[0.         0.11111111 0.22222222 0.33333333 0.44444444 0.55555556\n",
      " 0.66666667 0.77777778 0.88888889 1.        ]\n",
      "[[1. 0. 0. 0.]\n",
      " [0. 1. 0. 0.]\n",
      " [0. 0. 1. 0.]\n",
      " [0. 0. 0. 1.]]\n",
      "[68 76 15 13 29 56 27 99  9 96 11 61 32  2 97 20 76 84 69  6]\n",
      "29\n"
     ]
    }
   ],
   "source": [
    "#Task 6 --> Working with Built-in Functions\n",
    "arr=np.linspace(0,1,10)\n",
    "print(arr)\n",
    "\n",
    "arrI=np.eye(4,4)\n",
    "print(arrI)\n",
    "\n",
    "array = np.random.randint(1,100,20)\n",
    "np.sort(array)\n",
    "print(array[4])"
   ]
  },
  {
   "cell_type": "code",
   "execution_count": 56,
   "id": "ae91face",
   "metadata": {},
   "outputs": [
    {
     "name": "stdout",
     "output_type": "stream",
     "text": [
      "[[23.43345576 25.00109633 24.83206713 ... 22.25843    28.02502865\n",
      "  26.19211638]\n",
      " [22.29575092 23.49661973 24.03486131 ... 21.98994286 27.47609345\n",
      "  24.83154767]\n",
      " [22.28156833 23.74519831 23.37495092 ... 22.71650409 26.43351015\n",
      "  25.52124973]\n",
      " ...\n",
      " [21.84477834 24.12945922 23.71099307 ... 20.49615608 25.10868626\n",
      "  23.52337372]\n",
      " [23.25667247 25.41228581 24.66875672 ... 21.57763132 26.29219316\n",
      "  25.59402536]\n",
      " [22.6527596  24.1733071  25.10504754 ... 22.75859795 24.8843812\n",
      "  26.69543131]]\n",
      "Determinant: -2.483821005444199e+52\n",
      "Inverse calculated.\n",
      "Time taken: 0.0677 seconds\n"
     ]
    }
   ],
   "source": [
    "#Task 7 --> Generic\n",
    "array1 = np.random.rand(100,100) \n",
    "array2 = np.random.rand(100,100) \n",
    "\n",
    "start_time=time.time()\n",
    "result = np.matmul(array1,array2)\n",
    "print(result)\n",
    "\n",
    "\n",
    "det = np.linalg.det(result)\n",
    "print(\"Determinant:\", det)\n",
    "    \n",
    "if det != 0:\n",
    "        inv = np.linalg.inv(result)\n",
    "        print(\"Inverse calculated.\")\n",
    "else:\n",
    "        print(\"Inverse not possible (singular matrix).\")\n",
    "\n",
    "\n",
    "end_time = time.time()\n",
    "print(\"Time taken: {:.4f} seconds\".format(end_time - start_time))"
   ]
  },
  {
   "cell_type": "code",
   "execution_count": null,
   "id": "bd47647a",
   "metadata": {},
   "outputs": [],
   "source": []
  },
  {
   "cell_type": "code",
   "execution_count": null,
   "id": "7c4da8fa",
   "metadata": {},
   "outputs": [],
   "source": []
  }
 ],
 "metadata": {
  "kernelspec": {
   "display_name": "Python 3",
   "language": "python",
   "name": "python3"
  },
  "language_info": {
   "codemirror_mode": {
    "name": "ipython",
    "version": 3
   },
   "file_extension": ".py",
   "mimetype": "text/x-python",
   "name": "python",
   "nbconvert_exporter": "python",
   "pygments_lexer": "ipython3",
   "version": "3.12.7"
  }
 },
 "nbformat": 4,
 "nbformat_minor": 5
}
