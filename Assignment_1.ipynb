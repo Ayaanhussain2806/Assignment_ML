{
 "cells": [
  {
   "cell_type": "code",
   "execution_count": 6,
   "id": "41e4029b",
   "metadata": {},
   "outputs": [],
   "source": [
    "import csv"
   ]
  },
  {
   "cell_type": "code",
   "execution_count": 1,
   "id": "7f14bda2",
   "metadata": {},
   "outputs": [],
   "source": [
    "# 1) Custom Exception\n",
    "class DataError(Exception):\n",
    "    \"\"\"Custom exception for data-related errors.\"\"\"\n",
    "    def __init__(self, message=\"Invalid data\"):\n",
    "        super().__init__(message)"
   ]
  },
  {
   "cell_type": "code",
   "execution_count": 2,
   "id": "6dd358ff",
   "metadata": {},
   "outputs": [],
   "source": [
    "# 2. Create a 2D array\n",
    "matrix = [\n",
    "    [1, 2, 3],\n",
    "    [4, 5, 6],\n",
    "    [7, 8, 9]\n",
    "]"
   ]
  },
  {
   "cell_type": "code",
   "execution_count": null,
   "id": "25d57c5d",
   "metadata": {},
   "outputs": [],
   "source": [
    "# 3. Read 2D array from CSV\n",
    "def read_from_csv(filename):\n",
    "    try:\n",
    "        result = []\n",
    "        with open(filename, mode='r') as file:\n",
    "            reader = csv.reader(file)\n",
    "            for row in reader:\n",
    "                result.append([int(item) for item in row])  \n",
    "        return result\n",
    "    except Exception as e:\n",
    "        print(\"Error reading CSV:\", e)\n",
    "        return []"
   ]
  },
  {
   "cell_type": "code",
   "execution_count": null,
   "id": "934534b2",
   "metadata": {},
   "outputs": [],
   "source": [
    "# 4. Write 2D array to CSV\n",
    "def write_to_csv(matrix, filename):\n",
    "    try:\n",
    "        with open(filename, mode='w', newline='') as file:\n",
    "            writer = csv.writer(file)\n",
    "            for row in matrix:\n",
    "                if not all(isinstance(item, int) for item in row):\n",
    "                    raise DataError(\"Matrix should only contain integers.\")\n",
    "                writer.writerow(row)\n",
    "        print(f\"Matrix written to {filename} successfully.\")\n",
    "    except DataError as e:\n",
    "        print(\"Error:\", e)"
   ]
  },
  {
   "cell_type": "code",
   "execution_count": 8,
   "id": "3af23cbc",
   "metadata": {},
   "outputs": [
    {
     "name": "stdout",
     "output_type": "stream",
     "text": [
      "Matrix written to matrix.csv successfully.\n",
      "\n",
      "Reading back the matrix from CSV:\n",
      "[1, 2, 3]\n",
      "[4, 5, 6]\n",
      "[7, 8, 9]\n"
     ]
    }
   ],
   "source": [
    "csv_file = \"matrix.csv\"\n",
    "write_to_csv(matrix, csv_file)\n",
    "\n",
    "print(\"\\nReading back the matrix from CSV:\")\n",
    "read_matrix = read_from_csv(csv_file)\n",
    "for row in read_matrix:\n",
    "    print(row)"
   ]
  },
  {
   "cell_type": "code",
   "execution_count": null,
   "id": "88ec7519",
   "metadata": {},
   "outputs": [],
   "source": []
  }
 ],
 "metadata": {
  "kernelspec": {
   "display_name": "Python 3",
   "language": "python",
   "name": "python3"
  },
  "language_info": {
   "codemirror_mode": {
    "name": "ipython",
    "version": 3
   },
   "file_extension": ".py",
   "mimetype": "text/x-python",
   "name": "python",
   "nbconvert_exporter": "python",
   "pygments_lexer": "ipython3",
   "version": "3.12.7"
  }
 },
 "nbformat": 4,
 "nbformat_minor": 5
}
